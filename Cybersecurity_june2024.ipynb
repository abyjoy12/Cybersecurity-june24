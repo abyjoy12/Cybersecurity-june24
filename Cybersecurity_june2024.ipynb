{
  "nbformat": 4,
  "nbformat_minor": 0,
  "metadata": {
    "colab": {
      "provenance": [],
      "authorship_tag": "ABX9TyNko5lA90so+lHbiQ9Vgbx+",
      "include_colab_link": true
    },
    "kernelspec": {
      "name": "python3",
      "display_name": "Python 3"
    },
    "language_info": {
      "name": "python"
    }
  },
  "cells": [
    {
      "cell_type": "markdown",
      "metadata": {
        "id": "view-in-github",
        "colab_type": "text"
      },
      "source": [
        "<a href=\"https://colab.research.google.com/github/vishymails/Cybersecurity-june24/blob/main/Cybersecurity_june2024.ipynb\" target=\"_parent\"><img src=\"https://colab.research.google.com/assets/colab-badge.svg\" alt=\"Open In Colab\"/></a>"
      ]
    },
    {
      "cell_type": "code",
      "execution_count": 1,
      "metadata": {
        "id": "sNq2YXj_v5Ib"
      },
      "outputs": [],
      "source": [
        "from random import random"
      ]
    },
    {
      "cell_type": "code",
      "source": [
        "time_series = [2 * x + random() for x in range(1, 100)]\n"
      ],
      "metadata": {
        "id": "2Jx4lPgXzCyv"
      },
      "execution_count": 2,
      "outputs": []
    },
    {
      "cell_type": "code",
      "source": [
        "%matplotlib inline\n",
        "import matplotlib.pyplot as plt\n",
        "\n",
        "plt.plot(time_series)\n",
        "plt.show()\n"
      ],
      "metadata": {
        "colab": {
          "base_uri": "https://localhost:8080/",
          "height": 450
        },
        "id": "VoeSK21UzMuJ",
        "outputId": "eec26b01-a378-48e6-b1b6-db194dd0e918"
      },
      "execution_count": 3,
      "outputs": [
        {
          "output_type": "display_data",
          "data": {
            "text/plain": [
              "<Figure size 640x480 with 1 Axes>"
            ],
            "image/png": "[encoded data removed]"
          },
          "metadata": {}
        }
      ]
    },
    {
      "cell_type": "code",
      "source": [
        "from statsmodels.tsa.arima.model import ARIMA\n",
        "\n",
        "model = ARIMA(time_series, order=(0, 1, 2))\n",
        "model_fit = model.fit()\n",
        "\n",
        "y = model_fit.predict(len(time_series), len(time_series))\n",
        "print(y)"
      ],
      "metadata": {
        "colab": {
          "base_uri": "https://localhost:8080/"
        },
        "id": "pAq9gZDFzepK",
        "outputId": "6028a798-a672-4335-fb25-74ec4151c154"
      },
      "execution_count": 16,
      "outputs": [
        {
          "output_type": "stream",
          "name": "stdout",
          "text": [
            "[199.25776731]\n"
          ]
        }
      ]
    },
    {
      "cell_type": "code",
      "source": [
        "from statsmodels.tsa.ar_model import AutoReg\n",
        "\n",
        "model = AutoReg(time_series, lags=2)\n",
        "model_fit = model.fit()\n",
        "\n",
        "y = model_fit.predict(len(time_series), len(time_series))\n",
        "print(y)\n",
        "\n"
      ],
      "metadata": {
        "colab": {
          "base_uri": "https://localhost:8080/"
        },
        "id": "eM_fGKM80Dq9",
        "outputId": "d41730b9-fe68-42e3-84c6-fd122681cfbb"
      },
      "execution_count": 18,
      "outputs": [
        {
          "output_type": "stream",
          "name": "stdout",
          "text": [
            "[200.59113312]\n"
          ]
        }
      ]
    },
    {
      "cell_type": "code",
      "source": [
        "model_fit.summary\n"
      ],
      "metadata": {
        "colab": {
          "base_uri": "https://localhost:8080/",
          "height": 206
        },
        "id": "tWHOZ7sO220n",
        "outputId": "f0c6b792-6557-46e8-ee35-097f1dc06272"
      },
      "execution_count": 19,
      "outputs": [
        {
          "output_type": "execute_result",
          "data": {
            "text/plain": [
              "<bound method AutoRegResults.summary of <statsmodels.tsa.ar_model.AutoRegResults object at 0x7e4f93607640>>"
            ],
            "text/html": [
              "<div style=\"max-width:800px; border: 1px solid var(--colab-border-color);\"><style>\n",
              "      pre.function-repr-contents {\n",
              "        overflow-x: auto;\n",
              "        padding: 8px 12px;\n",
              "        max-height: 500px;\n",
              "      }\n",
              "\n",
              "      pre.function-repr-contents.function-repr-contents-collapsed {\n",
              "        cursor: pointer;\n",
              "        max-height: 100px;\n",
              "      }\n",
              "    </style>\n",
              "    <pre style=\"white-space: initial; background:\n",
              "         var(--colab-secondary-surface-color); padding: 8px 12px;\n",
              "         border-bottom: 1px solid var(--colab-border-color);\"><b>statsmodels.tsa.ar_model.AutoRegResults.summary</b><br/>def summary(alpha=0.05)</pre><pre class=\"function-repr-contents function-repr-contents-collapsed\" style=\"\"><a class=\"filepath\" style=\"display:none\" href=\"#\">/usr/local/lib/python3.10/dist-packages/statsmodels/tsa/ar_model.py</a>Summarize the Model\n",
              "\n",
              "Parameters\n",
              "----------\n",
              "alpha : float, optional\n",
              "    Significance level for the confidence intervals.\n",
              "\n",
              "Returns\n",
              "-------\n",
              "smry : Summary instance\n",
              "    This holds the summary table and text, which can be printed or\n",
              "    converted to various output formats.\n",
              "\n",
              "See Also\n",
              "--------\n",
              "statsmodels.iolib.summary.Summary</pre>\n",
              "      <script>\n",
              "      if (google.colab.kernel.accessAllowed && google.colab.files && google.colab.files.view) {\n",
              "        for (const element of document.querySelectorAll('.filepath')) {\n",
              "          element.style.display = 'block'\n",
              "          element.onclick = (event) => {\n",
              "            event.preventDefault();\n",
              "            event.stopPropagation();\n",
              "            google.colab.files.view(element.textContent, 1652);\n",
              "          };\n",
              "        }\n",
              "      }\n",
              "      for (const element of document.querySelectorAll('.function-repr-contents')) {\n",
              "        element.onclick = (event) => {\n",
              "          event.preventDefault();\n",
              "          event.stopPropagation();\n",
              "          element.classList.toggle('function-repr-contents-collapsed');\n",
              "        };\n",
              "      }\n",
              "      </script>\n",
              "      </div>"
            ]
          },
          "metadata": {},
          "execution_count": 19
        }
      ]
    },
    {
      "cell_type": "code",
      "source": [
        "model_fit.params"
      ],
      "metadata": {
        "colab": {
          "base_uri": "https://localhost:8080/"
        },
        "id": "X6iNSVyB3C7-",
        "outputId": "02207047-714e-46ad-dd1c-b8398436f4b8"
      },
      "execution_count": 20,
      "outputs": [
        {
          "output_type": "execute_result",
          "data": {
            "text/plain": [
              "array([2.67830625, 0.65050609, 0.34965503])"
            ]
          },
          "metadata": {},
          "execution_count": 20
        }
      ]
    },
    {
      "cell_type": "code",
      "source": [
        "model_fit.summary()"
      ],
      "metadata": {
        "colab": {
          "base_uri": "https://localhost:8080/",
          "height": 377
        },
        "id": "Ub5c1eiw3JJ8",
        "outputId": "f25fa1f6-5985-4933-9aa0-05073977cdfc"
      },
      "execution_count": 21,
      "outputs": [
        {
          "output_type": "execute_result",
          "data": {
            "text/plain": [
              "<class 'statsmodels.iolib.summary.Summary'>\n",
              "\"\"\"\n",
              "                            AutoReg Model Results                             \n",
              "==============================================================================\n",
              "Dep. Variable:                      y   No. Observations:                   99\n",
              "Model:                     AutoReg(2)   Log Likelihood                 -41.198\n",
              "Method:               Conditional MLE   S.D. of innovations              0.370\n",
              "Date:                Mon, 17 Jun 2024   AIC                             90.396\n",
              "Time:                        11:02:33   BIC                            100.695\n",
              "Sample:                             2   HQIC                            94.561\n",
              "                                   99                                         \n",
              "==============================================================================\n",
              "                 coef    std err          z      P>|z|      [0.025      0.975]\n",
              "------------------------------------------------------------------------------\n",
              "const          2.6783      0.205     13.071      0.000       2.277       3.080\n",
              "y.L1           0.6505      0.096      6.802      0.000       0.463       0.838\n",
              "y.L2           0.3497      0.096      3.655      0.000       0.162       0.537\n",
              "                                    Roots                                    \n",
              "=============================================================================\n",
              "                  Real          Imaginary           Modulus         Frequency\n",
              "-----------------------------------------------------------------------------\n",
              "AR.1            0.9999           +0.0000j            0.9999            0.0000\n",
              "AR.2           -2.8603           +0.0000j            2.8603            0.5000\n",
              "-----------------------------------------------------------------------------\n",
              "\"\"\""
            ],
            "text/html": [
              "<table class=\"simpletable\">\n",
              "<caption>AutoReg Model Results</caption>\n",
              "<tr>\n",
              "  <th>Dep. Variable:</th>         <td>y</td>        <th>  No. Observations:  </th>   <td>99</td>   \n",
              "</tr>\n",
              "<tr>\n",
              "  <th>Model:</th>            <td>AutoReg(2)</td>    <th>  Log Likelihood     </th> <td>-41.198</td>\n",
              "</tr>\n",
              "<tr>\n",
              "  <th>Method:</th>         <td>Conditional MLE</td> <th>  S.D. of innovations</th>  <td>0.370</td> \n",
              "</tr>\n",
              "<tr>\n",
              "  <th>Date:</th>          <td>Mon, 17 Jun 2024</td> <th>  AIC                </th> <td>90.396</td> \n",
              "</tr>\n",
              "<tr>\n",
              "  <th>Time:</th>              <td>11:02:33</td>     <th>  BIC                </th> <td>100.695</td>\n",
              "</tr>\n",
              "<tr>\n",
              "  <th>Sample:</th>                <td>2</td>        <th>  HQIC               </th> <td>94.561</td> \n",
              "</tr>\n",
              "<tr>\n",
              "  <th></th>                      <td>99</td>        <th>                     </th>    <td> </td>   \n",
              "</tr>\n",
              "</table>\n",
              "<table class=\"simpletable\">\n",
              "<tr>\n",
              "    <td></td>       <th>coef</th>     <th>std err</th>      <th>z</th>      <th>P>|z|</th>  <th>[0.025</th>    <th>0.975]</th>  \n",
              "</tr>\n",
              "<tr>\n",
              "  <th>const</th> <td>    2.6783</td> <td>    0.205</td> <td>   13.071</td> <td> 0.000</td> <td>    2.277</td> <td>    3.080</td>\n",
              "</tr>\n",
              "<tr>\n",
              "  <th>y.L1</th>  <td>    0.6505</td> <td>    0.096</td> <td>    6.802</td> <td> 0.000</td> <td>    0.463</td> <td>    0.838</td>\n",
              "</tr>\n",
              "<tr>\n",
              "  <th>y.L2</th>  <td>    0.3497</td> <td>    0.096</td> <td>    3.655</td> <td> 0.000</td> <td>    0.162</td> <td>    0.537</td>\n",
              "</tr>\n",
              "</table>\n",
              "<table class=\"simpletable\">\n",
              "<caption>Roots</caption>\n",
              "<tr>\n",
              "    <td></td>   <th>            Real</th>  <th>         Imaginary</th> <th>         Modulus</th>  <th>        Frequency</th>\n",
              "</tr>\n",
              "<tr>\n",
              "  <th>AR.1</th> <td>           0.9999</td> <td>          +0.0000j</td> <td>           0.9999</td> <td>           0.0000</td>\n",
              "</tr>\n",
              "<tr>\n",
              "  <th>AR.2</th> <td>          -2.8603</td> <td>          +0.0000j</td> <td>           2.8603</td> <td>           0.5000</td>\n",
              "</tr>\n",
              "</table>"
            ],
            "text/latex": "\\begin{center}\n\\begin{tabular}{lclc}\n\\toprule\n\\textbf{Dep. Variable:} &             y             & \\textbf{  No. Observations:  } &             99             \\\\\n\\textbf{Model:}         &         AutoReg(2)        & \\textbf{  Log Likelihood     } &          -41.198           \\\\\n\\textbf{Method:}        &      Conditional MLE      & \\textbf{  S.D. of innovations} &           0.370            \\\\\n\\textbf{Date:}          &      Mon, 17 Jun 2024     & \\textbf{  AIC                } &           90.396           \\\\\n\\textbf{Time:}          &          11:02:33         & \\textbf{  BIC                } &          100.695           \\\\\n\\textbf{Sample:}        &             2             & \\textbf{  HQIC               } &           94.561           \\\\\n\\textbf{}               &             99            & \\textbf{                     } &                            \\\\\n\\bottomrule\n\\end{tabular}\n\\begin{tabular}{lcccccc}\n               & \\textbf{coef} & \\textbf{std err} & \\textbf{z} & \\textbf{P$> |$z$|$} & \\textbf{[0.025} & \\textbf{0.975]}  \\\\\n\\midrule\n\\textbf{const} &       2.6783  &        0.205     &    13.071  &         0.000        &        2.277    &        3.080     \\\\\n\\textbf{y.L1}  &       0.6505  &        0.096     &     6.802  &         0.000        &        0.463    &        0.838     \\\\\n\\textbf{y.L2}  &       0.3497  &        0.096     &     3.655  &         0.000        &        0.162    &        0.537     \\\\\n\\bottomrule\n\\end{tabular}\n\\begin{tabular}{lcccc}\n              & \\textbf{            Real} & \\textbf{         Imaginary} & \\textbf{         Modulus} & \\textbf{        Frequency}  \\\\\n\\midrule\n\\textbf{AR.1} &                0.9999     &                +0.0000j     &                0.9999     &                0.0000       \\\\\n\\textbf{AR.2} &               -2.8603     &                +0.0000j     &                2.8603     &                0.5000       \\\\\n\\bottomrule\n\\end{tabular}\n%\\caption{AutoReg Model Results}\n\\end{center}"
          },
          "metadata": {},
          "execution_count": 21
        }
      ]
    },
    {
      "cell_type": "code",
      "source": [],
      "metadata": {
        "id": "b4Pitgbc3OMS"
      },
      "execution_count": null,
      "outputs": []
    }
  ]
}